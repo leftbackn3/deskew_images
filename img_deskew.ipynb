{
  "nbformat": 4,
  "nbformat_minor": 0,
  "metadata": {
    "colab": {
      "name": "img_deskew.ipynb",
      "provenance": [],
      "mount_file_id": "1uErB1AdUaR-8Ucbl6oj4IEY1HKJjOiRZ",
      "authorship_tag": "ABX9TyMNN9ew3ap1soz1vHPtNBVy",
      "include_colab_link": true
    },
    "kernelspec": {
      "name": "python3",
      "display_name": "Python 3"
    },
    "language_info": {
      "name": "python"
    }
  },
  "cells": [
    {
      "cell_type": "markdown",
      "metadata": {
        "id": "view-in-github",
        "colab_type": "text"
      },
      "source": [
        "<a href=\"https://colab.research.google.com/github/leftbackn3/deskew_opencv/blob/main/img_deskew.ipynb\" target=\"_parent\"><img src=\"https://colab.research.google.com/assets/colab-badge.svg\" alt=\"Open In Colab\"/></a>"
      ]
    },
    {
      "cell_type": "markdown",
      "metadata": {
        "id": "PqbtYEBFQXeK"
      },
      "source": [
        "Code reference- sbrunner/deskew"
      ]
    },
    {
      "cell_type": "code",
      "metadata": {
        "colab": {
          "base_uri": "https://localhost:8080/"
        },
        "id": "Cm8fem15QxNw",
        "outputId": "d42cd22e-dec4-4680-e3ae-29643eb16a3f"
      },
      "source": [
        "!pip install deskew"
      ],
      "execution_count": 2,
      "outputs": [
        {
          "output_type": "stream",
          "text": [
            "Collecting deskew\n",
            "  Downloading https://files.pythonhosted.org/packages/46/41/3c1522b014c496f056185d60c79c52cd36b6258b155351d866bee4d925cb/deskew-0.10.28-py2.py3-none-any.whl\n",
            "Requirement already satisfied: numpy in /usr/local/lib/python3.7/dist-packages (from deskew) (1.19.5)\n",
            "Requirement already satisfied: scikit-image!=0.15.0 in /usr/local/lib/python3.7/dist-packages (from deskew) (0.16.2)\n",
            "Requirement already satisfied: scipy>=0.19.0 in /usr/local/lib/python3.7/dist-packages (from scikit-image!=0.15.0->deskew) (1.4.1)\n",
            "Requirement already satisfied: PyWavelets>=0.4.0 in /usr/local/lib/python3.7/dist-packages (from scikit-image!=0.15.0->deskew) (1.1.1)\n",
            "Requirement already satisfied: matplotlib!=3.0.0,>=2.0.0 in /usr/local/lib/python3.7/dist-packages (from scikit-image!=0.15.0->deskew) (3.2.2)\n",
            "Requirement already satisfied: pillow>=4.3.0 in /usr/local/lib/python3.7/dist-packages (from scikit-image!=0.15.0->deskew) (7.1.2)\n",
            "Requirement already satisfied: networkx>=2.0 in /usr/local/lib/python3.7/dist-packages (from scikit-image!=0.15.0->deskew) (2.5.1)\n",
            "Requirement already satisfied: imageio>=2.3.0 in /usr/local/lib/python3.7/dist-packages (from scikit-image!=0.15.0->deskew) (2.4.1)\n",
            "Requirement already satisfied: python-dateutil>=2.1 in /usr/local/lib/python3.7/dist-packages (from matplotlib!=3.0.0,>=2.0.0->scikit-image!=0.15.0->deskew) (2.8.1)\n",
            "Requirement already satisfied: cycler>=0.10 in /usr/local/lib/python3.7/dist-packages (from matplotlib!=3.0.0,>=2.0.0->scikit-image!=0.15.0->deskew) (0.10.0)\n",
            "Requirement already satisfied: pyparsing!=2.0.4,!=2.1.2,!=2.1.6,>=2.0.1 in /usr/local/lib/python3.7/dist-packages (from matplotlib!=3.0.0,>=2.0.0->scikit-image!=0.15.0->deskew) (2.4.7)\n",
            "Requirement already satisfied: kiwisolver>=1.0.1 in /usr/local/lib/python3.7/dist-packages (from matplotlib!=3.0.0,>=2.0.0->scikit-image!=0.15.0->deskew) (1.3.1)\n",
            "Requirement already satisfied: decorator<5,>=4.3 in /usr/local/lib/python3.7/dist-packages (from networkx>=2.0->scikit-image!=0.15.0->deskew) (4.4.2)\n",
            "Requirement already satisfied: six>=1.5 in /usr/local/lib/python3.7/dist-packages (from python-dateutil>=2.1->matplotlib!=3.0.0,>=2.0.0->scikit-image!=0.15.0->deskew) (1.15.0)\n",
            "Installing collected packages: deskew\n",
            "Successfully installed deskew-0.10.28\n"
          ],
          "name": "stdout"
        }
      ]
    },
    {
      "cell_type": "code",
      "metadata": {
        "id": "HGvYedvPQAtA"
      },
      "source": [
        "import numpy as np\n",
        "from skimage import io\n",
        "from skimage.color import rgb2gray\n",
        "from skimage.transform import rotate\n",
        "\n",
        "from deskew import determine_skew\n",
        "\n",
        "image = io.imread('/content/drive/MyDrive/invoice_images/realTest_img6.jpeg')\n",
        "grayscale = rgb2gray(image)\n",
        "angle = determine_skew(grayscale)\n",
        "\n",
        "rotated = rotate(image, angle, resize=True) * 255\n",
        "io.imsave('output.png', rotated.astype(np.uint8))"
      ],
      "execution_count": 17,
      "outputs": []
    },
    {
      "cell_type": "code",
      "metadata": {
        "colab": {
          "base_uri": "https://localhost:8080/"
        },
        "id": "qNLXns5mQtJi",
        "outputId": "97779768-f22b-404d-ec61-aa75f172e514"
      },
      "source": [
        "print(angle)"
      ],
      "execution_count": 18,
      "outputs": [
        {
          "output_type": "stream",
          "text": [
            "-89.49720670391062\n"
          ],
          "name": "stdout"
        }
      ]
    },
    {
      "cell_type": "code",
      "metadata": {
        "id": "EF3diYB6RDf_"
      },
      "source": [
        ""
      ],
      "execution_count": null,
      "outputs": []
    }
  ]
}